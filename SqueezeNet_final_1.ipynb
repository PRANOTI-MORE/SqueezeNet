{
  "cells": [
    {
      "cell_type": "code",
      "execution_count": null,
      "metadata": {
        "id": "BJV1w-QoObNQ"
      },
      "outputs": [],
      "source": [
        "import numpy as np\n",
        "import tensorflow as tf\n",
        "from tensorflow import keras \n",
        "import matplotlib.pyplot as plt\n",
        "import os  #iterate through directories or join paths\n",
        "import cv2\n",
        "from google.colab.patches import cv2_imshow\n",
        "import random\n",
        "from keras.models import Sequential\n",
        "from keras.layers import Dense, Dropout, Activation, Flatten, Conv2D, MaxPooling2D, AveragePooling2D, GlobalAveragePooling2D, ZeroPadding2D, Concatenate, Attention\n",
        "from keras.layers import BatchNormalization\n",
        "from keras.models import Model\n",
        "from keras import Input\n",
        "from sklearn.model_selection import train_test_split\n",
        "from sklearn.metrics import confusion_matrix\n",
        "from sklearn.metrics import classification_report\n",
        "from sklearn.model_selection import GridSearchCV"
      ]
    },
    {
      "cell_type": "code",
      "execution_count": null,
      "metadata": {
        "colab": {
          "base_uri": "https://localhost:8080/"
        },
        "id": "_pC04HIlLkO5",
        "outputId": "61cccd10-f2de-47f1-b733-af989f518e21"
      },
      "outputs": [
        {
          "output_type": "stream",
          "name": "stdout",
          "text": [
            "Mounted at /content/drive\n"
          ]
        }
      ],
      "source": [
        "from google.colab import drive\n",
        "drive.mount('/content/drive')"
      ]
    },
    {
      "cell_type": "code",
      "execution_count": null,
      "metadata": {
        "id": "I3BUpOQFLkx5"
      },
      "outputs": [],
      "source": [
        "# unzipping the dataset\n",
        "\n",
        "# !unzip '/content/drive/MyDrive/EE769 Machine Learning/Project/archive.zip' -d '/content/drive/MyDrive/EE769 Machine Learning/Project/'"
      ]
    },
    {
      "cell_type": "code",
      "execution_count": null,
      "metadata": {
        "id": "0937F2hO3YBA"
      },
      "outputs": [],
      "source": [
        "# directory = \"/content/drive/MyDrive/EE769/Big_Cats/train\"\n",
        "directory = \"/content/drive/MyDrive/EE769 Machine Learning/Project/train\"\n",
        "categories = [\"CARACAL\",\"CHEETAH\",\"LIONS\",\"PUMA\",\"TIGER\"]"
      ]
    },
    {
      "cell_type": "code",
      "execution_count": null,
      "metadata": {
        "id": "o-qMMKwCsOBE",
        "colab": {
          "base_uri": "https://localhost:8080/"
        },
        "outputId": "ceedf46c-bada-4e08-883e-d23bdd60d6a4"
      },
      "outputs": [
        {
          "output_type": "stream",
          "name": "stdout",
          "text": [
            "Category: CARACAL images: 236\n",
            "Category: CHEETAH images: 235\n",
            "Category: LIONS images: 228\n",
            "Category: PUMA images: 236\n",
            "Category: TIGER images: 237\n"
          ]
        }
      ],
      "source": [
        "# create the training dataset\n",
        "train = []\n",
        "\n",
        "def create_training_dataset():\n",
        "  for category in categories:\n",
        "    i = 0\n",
        "    path = os.path.join(directory,category) \n",
        "    class_index = categories.index(category)\n",
        "    for img in os.listdir(path):\n",
        "      img_array = cv2.imread(os.path.join(path,img))\n",
        "      img_size = 224\n",
        "      img_array = cv2.resize(img_array, (img_size,img_size))\n",
        "      train.append([img_array,class_index])\n",
        "      i += 1\n",
        "    print(f'Category: {category} images: {i}')\n",
        "\n",
        "create_training_dataset()"
      ]
    },
    {
      "cell_type": "code",
      "execution_count": null,
      "metadata": {
        "id": "kO-xOLl8sQal"
      },
      "outputs": [],
      "source": [
        "#shuffle the data\n",
        "random.seed(5)\n",
        "random.shuffle(train)"
      ]
    },
    {
      "cell_type": "code",
      "execution_count": null,
      "metadata": {
        "id": "_e7BCxM0sUCO"
      },
      "outputs": [],
      "source": [
        "#splitting the data into training and validation dataset\n",
        "train, val = train_test_split(train, test_size=0.12, random_state=42)"
      ]
    },
    {
      "cell_type": "code",
      "execution_count": null,
      "metadata": {
        "id": "A2qBRj3ssT-M",
        "colab": {
          "base_uri": "https://localhost:8080/"
        },
        "outputId": "c320a9c2-14ae-4e89-894f-08c0eb29f694"
      },
      "outputs": [
        {
          "output_type": "stream",
          "name": "stdout",
          "text": [
            "(1031, 224, 224, 3)\n"
          ]
        }
      ],
      "source": [
        "X_train = []\n",
        "y_train = []\n",
        "img_size = 224\n",
        "\n",
        "for image,label in train:\n",
        "  X_train.append(image)\n",
        "  y_train.append(label)\n",
        "X_train = np.array(X_train).reshape(-1, img_size, img_size, 3) # -1 implies any number of images\n",
        "y_train = np.array(y_train)\n",
        "print(X_train.shape)\n",
        "#normalize the data\n",
        "X_train = X_train/255.0"
      ]
    },
    {
      "cell_type": "code",
      "execution_count": null,
      "metadata": {
        "id": "umyjHnkTsT3P",
        "colab": {
          "base_uri": "https://localhost:8080/"
        },
        "outputId": "663e45c0-8c86-4287-8cbc-361cab081b6a"
      },
      "outputs": [
        {
          "output_type": "stream",
          "name": "stdout",
          "text": [
            "(141, 224, 224, 3)\n"
          ]
        }
      ],
      "source": [
        "X_val = []\n",
        "y_val = []\n",
        "img_size = 224\n",
        "for image,label in val:\n",
        "  X_val.append(image)\n",
        "  y_val.append(label)\n",
        "X_val = np.array(X_val).reshape(-1, img_size, img_size, 3) # -1 implies any number of images\n",
        "y_val = np.array(y_val)\n",
        "print(X_val.shape)\n",
        "X_val = X_val/255.0"
      ]
    },
    {
      "cell_type": "code",
      "execution_count": null,
      "metadata": {
        "id": "uFqav1ThSsHr"
      },
      "outputs": [],
      "source": [
        "\n",
        "# create the testing dataset\n",
        "# merging the test and validate data into test data\n",
        "\n",
        "directory1 = \"/content/drive/MyDrive/EE769 Machine Learning/Project/test\"\n",
        "directory2 = \"/content/drive/MyDrive/EE769 Machine Learning/Project/valid\"\n",
        "\n",
        "test = []\n",
        "\n",
        "def create_testing_dataset():\n",
        "  for category in categories:\n",
        "    i = 0\n",
        "    path = os.path.join(directory1,category) \n",
        "    class_index = categories.index(category)\n",
        "    for img in os.listdir(path):\n",
        "      img_array = cv2.imread(os.path.join(path,img))\n",
        "      img_size = 224\n",
        "      img_array = cv2.resize(img_array, (img_size,img_size))\n",
        "      test.append([img_array,class_index])\n",
        "      i += 1\n",
        "  for category in categories:\n",
        "    i = 0\n",
        "    path = os.path.join(directory2,category) \n",
        "    class_index = categories.index(category)\n",
        "    for img in os.listdir(path):\n",
        "      img_array = cv2.imread(os.path.join(path,img))\n",
        "      img_size = 224\n",
        "      img_array = cv2.resize(img_array, (img_size,img_size))\n",
        "      test.append([img_array,class_index])\n",
        "      i += 1\n",
        "\n",
        "create_testing_dataset()"
      ]
    },
    {
      "cell_type": "code",
      "execution_count": null,
      "metadata": {
        "id": "5f6f1pBiUL0L",
        "colab": {
          "base_uri": "https://localhost:8080/"
        },
        "outputId": "98ea542c-37e4-45bd-bda5-d7add4e7f2b0"
      },
      "outputs": [
        {
          "output_type": "stream",
          "name": "stdout",
          "text": [
            "(50, 224, 224, 3)\n"
          ]
        }
      ],
      "source": [
        "X_test = []\n",
        "y_test = []\n",
        "img_size = 224\n",
        "for image,label in test:\n",
        "  X_test.append(image)\n",
        "  y_test.append(label)\n",
        "X_test = np.array(X_test).reshape(-1, img_size, img_size, 3) # -1 implies any number of images\n",
        "y_test = np.array(y_test)\n",
        "print(X_test.shape)\n",
        "X_test = X_test/255.0"
      ]
    },
    {
      "cell_type": "code",
      "execution_count": null,
      "metadata": {
        "id": "g_OI1o9F3X7i",
        "colab": {
          "base_uri": "https://localhost:8080/"
        },
        "outputId": "c85c82e4-a2f1-4069-cdd7-7af38d3e552e"
      },
      "outputs": [
        {
          "output_type": "stream",
          "name": "stdout",
          "text": [
            "(1031, 224, 224, 3)\n",
            "(50, 224, 224, 3)\n",
            "(141, 224, 224, 3)\n"
          ]
        }
      ],
      "source": [
        "print(X_train.shape)\n",
        "print(X_test.shape)\n",
        "print(X_val.shape)"
      ]
    },
    {
      "cell_type": "code",
      "execution_count": null,
      "metadata": {
        "id": "B5MLz2_E3X39"
      },
      "outputs": [],
      "source": [
        "# convert to one hot encoing\n",
        "num_classes = len(categories)\n",
        "y_train = tf.keras.utils.to_categorical(y_train, num_classes)\n",
        "y_test = tf.keras.utils.to_categorical(y_test, num_classes)\n",
        "y_val = tf.keras.utils.to_categorical(y_val, num_classes)"
      ]
    },
    {
      "cell_type": "code",
      "execution_count": null,
      "metadata": {
        "id": "dweUqFffZzHl",
        "colab": {
          "base_uri": "https://localhost:8080/"
        },
        "outputId": "3c20eee8-c871-4790-c76c-0afd27f66cf9"
      },
      "outputs": [
        {
          "output_type": "stream",
          "name": "stdout",
          "text": [
            "[[0. 0. 1. 0. 0.]\n",
            " [0. 0. 0. 0. 1.]\n",
            " [1. 0. 0. 0. 0.]\n",
            " [1. 0. 0. 0. 0.]\n",
            " [0. 0. 1. 0. 0.]\n",
            " [0. 0. 0. 1. 0.]\n",
            " [0. 1. 0. 0. 0.]\n",
            " [0. 0. 0. 1. 0.]\n",
            " [0. 0. 0. 1. 0.]\n",
            " [0. 0. 0. 1. 0.]]\n"
          ]
        }
      ],
      "source": [
        "print(y_train[-10:])"
      ]
    },
    {
      "cell_type": "code",
      "execution_count": null,
      "metadata": {
        "id": "aa_U2DnIWIO_"
      },
      "outputs": [],
      "source": [
        "# Number of filters in Squeeze block = s1x1\n",
        "# 1x1 convolution\n",
        "# ReLU activation\n",
        "def Squeeze(X, s1x1):\n",
        "  momentum = 0.9\n",
        "  X = Conv2D(s1x1, 1, activation = \"relu\")(X)\n",
        "  X = BatchNormalization(momentum = momentum)(X)\n",
        "  print(f'X.shape: {X.shape}')\n",
        "  print(\"Squeeze done\")\n",
        "  return X  "
      ]
    },
    {
      "cell_type": "code",
      "execution_count": null,
      "metadata": {
        "id": "wARdfkLhWLn5"
      },
      "outputs": [],
      "source": [
        "# Number 1x1 convolution of filters in Expand block = # Number 3x3 convolution of filters in Expand block = e\n",
        "# e1x1 = e3x3 because they are concatenated further \n",
        "# ReLU activation\n",
        "# Zero padding\n",
        "def Expand(X, e):\n",
        "  momentum = 0.9\n",
        "  X1 = Conv2D(e, 1, activation = \"relu\")(X)\n",
        "  X1 = BatchNormalization(momentum = momentum)(X1)\n",
        "  print(f'X.shape: {X.shape}')\n",
        "  X3 = Conv2D(e, 3, padding = \"same\",  activation = \"relu\")(X)  #padding = \"same\" for zero padding\n",
        "  X3 = BatchNormalization(momentum = momentum)(X3)\n",
        "  print(f'X.shape: {X.shape}')\n",
        "  X = Concatenate(axis = -1)([X1,X3])                           #concatenating the third dimension\n",
        "  print(f'X.shape: {X.shape}')\n",
        "  print(\"Expand done\")\n",
        "  return X\n"
      ]
    },
    {
      "cell_type": "code",
      "execution_count": null,
      "metadata": {
        "id": "NzAOEqeTbHu6"
      },
      "outputs": [],
      "source": [
        "def Fire(X, s1x1, e):\n",
        "  print(f's1x1: {s1x1}')\n",
        "  print(f'e: {e}')\n",
        "  X = Squeeze(X, s1x1)\n",
        "  X = Expand(X, e)\n",
        "  if (s1x1 < (2*e)):\n",
        "    print(\"Fire module done\")\n",
        "    print(\"=============================================\")\n",
        "  else:\n",
        "    print(\"Warning: s1x1 is >= (e1x1 + e3x3)\")\n",
        "  return X"
      ]
    },
    {
      "cell_type": "markdown",
      "metadata": {
        "id": "frdB8dldaY38"
      },
      "source": [
        "![image.png](data:image/png;base64,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)"
      ]
    },
    {
      "cell_type": "markdown",
      "metadata": {
        "id": "yg6zJM5SbB--"
      },
      "source": [
        "![image.png](data:image/png;base64,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)"
      ]
    },
    {
      "cell_type": "markdown",
      "metadata": {
        "id": "6gvQ0jZqbIz0"
      },
      "source": [
        "![image.png](data:image/png;base64,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)"
      ]
    },
    {
      "cell_type": "code",
      "execution_count": null,
      "metadata": {
        "id": "leHiZHoMYqey"
      },
      "outputs": [],
      "source": [
        "def s1x1_(layer_num, base, incr, freq, SR):\n",
        "  return (base + incr*(layer_num//freq))*SR"
      ]
    },
    {
      "cell_type": "code",
      "execution_count": null,
      "metadata": {
        "id": "M5ybUrU0byEm"
      },
      "outputs": [],
      "source": [
        "def e_(layer_num, base, incr, freq, pct3x3):\n",
        "  return (base + incr*(layer_num//freq))*pct3x3"
      ]
    },
    {
      "cell_type": "code",
      "source": [
        "def SqueezeNet(num_rows, num_cols, num_channels, num_classes):\n",
        "  num_filters = 48\n",
        "  momentum = 0.9\n",
        "  num_fire_pool = 3\n",
        "  base = 32\n",
        "  incr = 32\n",
        "  freq = 2\n",
        "  SR = 0.5\n",
        "  pct3x3 = 0.5\n",
        "  inp = Input (shape = (num_rows, num_cols, num_channels))    #224x224x3 \n",
        "  print(f'inp.shape: {inp.shape}')\n",
        "  X = Conv2D(num_filters , 7, strides = 2, padding = \"same\", activation = \"relu\")(inp)    \n",
        "  X = BatchNormalization(momentum=momentum)(X)\n",
        "  print(f'X.shape: {X.shape}')      \n",
        "  for i in range(num_fire_pool):          \n",
        "    X = MaxPooling2D(pool_size = (3, 3), strides = 2)(X)\n",
        "    print(f'X.shape: {X.shape}')\n",
        "    print(\"MaxPooling done\")\n",
        "    print(\"=============================================\")\n",
        "    X = Fire(X, s1x1_(2*i, base, incr, freq, SR), e_(2*i, base, incr, freq, pct3x3))\n",
        "    X = Fire(X, s1x1_(2*i+1, base, incr, freq, SR), e_(2*i+1, base, incr, freq, pct3x3))\n",
        "  # X = Fire(X, s1x1_(4, base, incr, freq, SR), e_(4, base, incr, freq, pct3x3))\n",
        "  X = Dropout(0.2)(X)\n",
        "  X = Conv2D(num_classes, 1, padding = \"same\")(X)                \n",
        "  X = GlobalAveragePooling2D()(X)\n",
        "  output = Activation(\"softmax\")(X)\n",
        "\n",
        "  model = Model(inputs = inp, outputs = output)\n",
        "\n",
        "  opt = keras.optimizers.SGD(learning_rate=tf.keras.optimizers.schedules.PolynomialDecay(initial_learning_rate = 0.04, decay_steps = 1000, end_learning_rate=0.0001, power=1.0))\n",
        "  model.compile(optimizer=opt, loss=\"categorical_crossentropy\", metrics=[\"accuracy\"])\n",
        "\n",
        "  return model"
      ],
      "metadata": {
        "id": "XP3rtfN--3Jv"
      },
      "execution_count": null,
      "outputs": []
    },
    {
      "cell_type": "code",
      "execution_count": null,
      "metadata": {
        "id": "KGErQ1cX4mss",
        "colab": {
          "base_uri": "https://localhost:8080/"
        },
        "outputId": "7e7f75f8-bc2c-4062-8271-d972a7a0c809"
      },
      "outputs": [
        {
          "output_type": "stream",
          "name": "stdout",
          "text": [
            "inp.shape: (None, 224, 224, 3)\n",
            "X.shape: (None, 112, 112, 48)\n",
            "X.shape: (None, 55, 55, 48)\n",
            "MaxPooling done\n",
            "=============================================\n",
            "s1x1: 16.0\n",
            "e: 16.0\n",
            "X.shape: (None, 55, 55, 16)\n",
            "Squeeze done\n",
            "X.shape: (None, 55, 55, 16)\n",
            "X.shape: (None, 55, 55, 16)\n",
            "X.shape: (None, 55, 55, 32)\n",
            "Expand done\n",
            "Fire module done\n",
            "=============================================\n",
            "s1x1: 16.0\n",
            "e: 16.0\n",
            "X.shape: (None, 55, 55, 16)\n",
            "Squeeze done\n",
            "X.shape: (None, 55, 55, 16)\n",
            "X.shape: (None, 55, 55, 16)\n",
            "X.shape: (None, 55, 55, 32)\n",
            "Expand done\n",
            "Fire module done\n",
            "=============================================\n",
            "X.shape: (None, 27, 27, 32)\n",
            "MaxPooling done\n",
            "=============================================\n",
            "s1x1: 32.0\n",
            "e: 32.0\n",
            "X.shape: (None, 27, 27, 32)\n",
            "Squeeze done\n",
            "X.shape: (None, 27, 27, 32)\n",
            "X.shape: (None, 27, 27, 32)\n",
            "X.shape: (None, 27, 27, 64)\n",
            "Expand done\n",
            "Fire module done\n",
            "=============================================\n",
            "s1x1: 32.0\n",
            "e: 32.0\n",
            "X.shape: (None, 27, 27, 32)\n",
            "Squeeze done\n",
            "X.shape: (None, 27, 27, 32)\n",
            "X.shape: (None, 27, 27, 32)\n",
            "X.shape: (None, 27, 27, 64)\n",
            "Expand done\n",
            "Fire module done\n",
            "=============================================\n",
            "X.shape: (None, 13, 13, 64)\n",
            "MaxPooling done\n",
            "=============================================\n",
            "s1x1: 48.0\n",
            "e: 48.0\n",
            "X.shape: (None, 13, 13, 48)\n",
            "Squeeze done\n",
            "X.shape: (None, 13, 13, 48)\n",
            "X.shape: (None, 13, 13, 48)\n",
            "X.shape: (None, 13, 13, 96)\n",
            "Expand done\n",
            "Fire module done\n",
            "=============================================\n",
            "s1x1: 48.0\n",
            "e: 48.0\n",
            "X.shape: (None, 13, 13, 48)\n",
            "Squeeze done\n",
            "X.shape: (None, 13, 13, 48)\n",
            "X.shape: (None, 13, 13, 48)\n",
            "X.shape: (None, 13, 13, 96)\n",
            "Expand done\n",
            "Fire module done\n",
            "=============================================\n"
          ]
        }
      ],
      "source": [
        "model = SqueezeNet(224, 224, 3, num_classes= len(categories))"
      ]
    },
    {
      "cell_type": "code",
      "execution_count": null,
      "metadata": {
        "id": "gby-ZP5r5BnX",
        "colab": {
          "base_uri": "https://localhost:8080/"
        },
        "outputId": "d8dc9cf3-6751-4ba0-ca6c-72a4aee0b95b"
      },
      "outputs": [
        {
          "output_type": "stream",
          "name": "stdout",
          "text": [
            "Epoch 1/75\n",
            "33/33 [==============================] - 20s 105ms/step - loss: 1.4041 - accuracy: 0.3666 - val_loss: 2.4120 - val_accuracy: 0.1631\n",
            "Epoch 2/75\n",
            "33/33 [==============================] - 2s 48ms/step - loss: 1.1825 - accuracy: 0.4966 - val_loss: 2.8280 - val_accuracy: 0.2270\n",
            "Epoch 3/75\n",
            "33/33 [==============================] - 2s 48ms/step - loss: 1.0966 - accuracy: 0.5335 - val_loss: 2.4377 - val_accuracy: 0.1560\n",
            "Epoch 4/75\n",
            "33/33 [==============================] - 2s 48ms/step - loss: 0.9632 - accuracy: 0.5994 - val_loss: 1.2277 - val_accuracy: 0.4539\n",
            "Epoch 5/75\n",
            "33/33 [==============================] - 2s 48ms/step - loss: 0.9249 - accuracy: 0.6033 - val_loss: 1.2458 - val_accuracy: 0.4468\n",
            "Epoch 6/75\n",
            "33/33 [==============================] - 2s 48ms/step - loss: 0.8590 - accuracy: 0.6469 - val_loss: 11.6290 - val_accuracy: 0.2128\n",
            "Epoch 7/75\n",
            "33/33 [==============================] - 2s 55ms/step - loss: 0.8329 - accuracy: 0.6702 - val_loss: 1.5708 - val_accuracy: 0.4752\n",
            "Epoch 8/75\n",
            "33/33 [==============================] - 2s 68ms/step - loss: 0.7627 - accuracy: 0.6993 - val_loss: 3.2723 - val_accuracy: 0.2624\n",
            "Epoch 9/75\n",
            "33/33 [==============================] - 2s 50ms/step - loss: 0.6952 - accuracy: 0.7245 - val_loss: 1.5809 - val_accuracy: 0.4610\n",
            "Epoch 10/75\n",
            "33/33 [==============================] - 2s 47ms/step - loss: 0.6519 - accuracy: 0.7410 - val_loss: 1.0742 - val_accuracy: 0.5957\n",
            "Epoch 11/75\n",
            "33/33 [==============================] - 2s 48ms/step - loss: 0.6217 - accuracy: 0.7633 - val_loss: 1.9314 - val_accuracy: 0.3972\n",
            "Epoch 12/75\n",
            "33/33 [==============================] - 2s 50ms/step - loss: 0.5803 - accuracy: 0.7876 - val_loss: 1.4445 - val_accuracy: 0.5390\n",
            "Epoch 13/75\n",
            "33/33 [==============================] - 2s 47ms/step - loss: 0.5722 - accuracy: 0.7934 - val_loss: 0.9460 - val_accuracy: 0.6596\n",
            "Epoch 14/75\n",
            "33/33 [==============================] - 2s 65ms/step - loss: 0.5172 - accuracy: 0.8177 - val_loss: 0.8478 - val_accuracy: 0.6596\n",
            "Epoch 15/75\n",
            "33/33 [==============================] - 2s 58ms/step - loss: 0.4568 - accuracy: 0.8400 - val_loss: 0.7951 - val_accuracy: 0.7234\n",
            "Epoch 16/75\n",
            "33/33 [==============================] - 2s 53ms/step - loss: 0.4404 - accuracy: 0.8448 - val_loss: 1.2572 - val_accuracy: 0.5248\n",
            "Epoch 17/75\n",
            "33/33 [==============================] - 2s 49ms/step - loss: 0.4228 - accuracy: 0.8506 - val_loss: 3.7347 - val_accuracy: 0.2057\n",
            "Epoch 18/75\n",
            "33/33 [==============================] - 2s 48ms/step - loss: 0.4548 - accuracy: 0.8371 - val_loss: 2.4106 - val_accuracy: 0.2908\n",
            "Epoch 19/75\n",
            "33/33 [==============================] - 2s 50ms/step - loss: 0.3819 - accuracy: 0.8768 - val_loss: 1.5459 - val_accuracy: 0.5603\n",
            "Epoch 20/75\n",
            "33/33 [==============================] - 2s 49ms/step - loss: 0.3553 - accuracy: 0.8836 - val_loss: 1.7906 - val_accuracy: 0.5035\n",
            "Epoch 21/75\n",
            "33/33 [==============================] - 2s 48ms/step - loss: 0.3229 - accuracy: 0.9040 - val_loss: 1.8676 - val_accuracy: 0.5248\n",
            "Epoch 22/75\n",
            "33/33 [==============================] - 2s 48ms/step - loss: 0.2894 - accuracy: 0.9108 - val_loss: 0.9109 - val_accuracy: 0.6170\n",
            "Epoch 23/75\n",
            "33/33 [==============================] - 2s 56ms/step - loss: 0.2661 - accuracy: 0.9292 - val_loss: 0.9303 - val_accuracy: 0.6525\n",
            "Epoch 24/75\n",
            "33/33 [==============================] - 2s 52ms/step - loss: 0.2765 - accuracy: 0.9146 - val_loss: 0.9559 - val_accuracy: 0.6170\n",
            "Epoch 25/75\n",
            "33/33 [==============================] - 2s 49ms/step - loss: 0.2397 - accuracy: 0.9408 - val_loss: 0.7809 - val_accuracy: 0.7376\n",
            "Epoch 26/75\n",
            "33/33 [==============================] - 2s 50ms/step - loss: 0.2301 - accuracy: 0.9476 - val_loss: 1.2037 - val_accuracy: 0.5674\n",
            "Epoch 27/75\n",
            "33/33 [==============================] - 2s 50ms/step - loss: 0.2170 - accuracy: 0.9437 - val_loss: 0.6777 - val_accuracy: 0.7589\n",
            "Epoch 28/75\n",
            "33/33 [==============================] - 2s 47ms/step - loss: 0.2093 - accuracy: 0.9602 - val_loss: 0.6334 - val_accuracy: 0.7730\n",
            "Epoch 29/75\n",
            "33/33 [==============================] - 2s 50ms/step - loss: 0.1927 - accuracy: 0.9612 - val_loss: 0.6891 - val_accuracy: 0.7589\n",
            "Epoch 30/75\n",
            "33/33 [==============================] - 2s 47ms/step - loss: 0.1966 - accuracy: 0.9525 - val_loss: 0.6620 - val_accuracy: 0.7730\n",
            "Epoch 31/75\n",
            "33/33 [==============================] - 2s 55ms/step - loss: 0.2005 - accuracy: 0.9622 - val_loss: 0.6475 - val_accuracy: 0.7943\n",
            "Epoch 32/75\n",
            "33/33 [==============================] - 2s 54ms/step - loss: 0.1951 - accuracy: 0.9602 - val_loss: 0.6596 - val_accuracy: 0.7730\n",
            "Epoch 33/75\n",
            "33/33 [==============================] - 2s 48ms/step - loss: 0.1927 - accuracy: 0.9583 - val_loss: 0.6474 - val_accuracy: 0.7943\n",
            "Epoch 34/75\n",
            "33/33 [==============================] - 2s 50ms/step - loss: 0.1801 - accuracy: 0.9641 - val_loss: 0.6331 - val_accuracy: 0.7872\n",
            "Epoch 35/75\n",
            "33/33 [==============================] - 2s 47ms/step - loss: 0.1843 - accuracy: 0.9680 - val_loss: 0.6321 - val_accuracy: 0.7943\n",
            "Epoch 36/75\n",
            "33/33 [==============================] - 2s 50ms/step - loss: 0.1885 - accuracy: 0.9573 - val_loss: 0.6448 - val_accuracy: 0.7872\n",
            "Epoch 37/75\n",
            "33/33 [==============================] - 2s 48ms/step - loss: 0.1857 - accuracy: 0.9573 - val_loss: 0.6535 - val_accuracy: 0.7660\n",
            "Epoch 38/75\n",
            "33/33 [==============================] - 2s 48ms/step - loss: 0.1776 - accuracy: 0.9612 - val_loss: 0.6590 - val_accuracy: 0.7730\n",
            "Epoch 39/75\n",
            "33/33 [==============================] - 2s 55ms/step - loss: 0.1911 - accuracy: 0.9641 - val_loss: 0.6499 - val_accuracy: 0.7872\n",
            "Epoch 40/75\n",
            "33/33 [==============================] - 2s 56ms/step - loss: 0.1741 - accuracy: 0.9690 - val_loss: 0.6345 - val_accuracy: 0.7872\n",
            "Epoch 41/75\n",
            "33/33 [==============================] - 2s 50ms/step - loss: 0.1929 - accuracy: 0.9554 - val_loss: 0.6302 - val_accuracy: 0.7943\n",
            "Epoch 42/75\n",
            "33/33 [==============================] - 2s 48ms/step - loss: 0.1818 - accuracy: 0.9661 - val_loss: 0.6580 - val_accuracy: 0.7660\n",
            "Epoch 43/75\n",
            "33/33 [==============================] - 2s 48ms/step - loss: 0.1929 - accuracy: 0.9612 - val_loss: 0.6278 - val_accuracy: 0.7801\n",
            "Epoch 44/75\n",
            "33/33 [==============================] - 2s 50ms/step - loss: 0.2028 - accuracy: 0.9437 - val_loss: 0.6277 - val_accuracy: 0.7943\n",
            "Epoch 45/75\n",
            "33/33 [==============================] - 2s 47ms/step - loss: 0.1678 - accuracy: 0.9728 - val_loss: 0.6291 - val_accuracy: 0.7872\n",
            "Epoch 46/75\n",
            "33/33 [==============================] - 2s 47ms/step - loss: 0.1902 - accuracy: 0.9661 - val_loss: 0.6471 - val_accuracy: 0.7801\n",
            "Epoch 47/75\n",
            "33/33 [==============================] - 2s 54ms/step - loss: 0.1813 - accuracy: 0.9622 - val_loss: 0.6563 - val_accuracy: 0.7801\n",
            "Epoch 48/75\n",
            "33/33 [==============================] - 2s 53ms/step - loss: 0.1836 - accuracy: 0.9602 - val_loss: 0.6412 - val_accuracy: 0.7943\n",
            "Epoch 49/75\n",
            "33/33 [==============================] - 2s 52ms/step - loss: 0.1842 - accuracy: 0.9709 - val_loss: 0.6442 - val_accuracy: 0.7730\n",
            "Epoch 50/75\n",
            "33/33 [==============================] - 2s 48ms/step - loss: 0.1764 - accuracy: 0.9661 - val_loss: 0.6630 - val_accuracy: 0.7730\n",
            "Epoch 51/75\n",
            "33/33 [==============================] - 2s 50ms/step - loss: 0.1850 - accuracy: 0.9631 - val_loss: 0.6759 - val_accuracy: 0.7801\n",
            "Epoch 52/75\n",
            "33/33 [==============================] - 2s 50ms/step - loss: 0.1815 - accuracy: 0.9631 - val_loss: 0.6728 - val_accuracy: 0.7589\n",
            "Epoch 53/75\n",
            "33/33 [==============================] - 2s 48ms/step - loss: 0.1873 - accuracy: 0.9583 - val_loss: 0.6512 - val_accuracy: 0.7730\n",
            "Epoch 54/75\n",
            "33/33 [==============================] - 2s 48ms/step - loss: 0.1819 - accuracy: 0.9564 - val_loss: 0.6448 - val_accuracy: 0.7872\n",
            "Epoch 55/75\n",
            "33/33 [==============================] - 2s 52ms/step - loss: 0.1794 - accuracy: 0.9622 - val_loss: 0.6533 - val_accuracy: 0.7730\n",
            "Epoch 56/75\n",
            "33/33 [==============================] - 2s 56ms/step - loss: 0.1802 - accuracy: 0.9651 - val_loss: 0.6491 - val_accuracy: 0.7801\n",
            "Epoch 57/75\n",
            "33/33 [==============================] - 2s 51ms/step - loss: 0.1908 - accuracy: 0.9564 - val_loss: 0.6470 - val_accuracy: 0.7801\n",
            "Epoch 58/75\n",
            "33/33 [==============================] - 2s 48ms/step - loss: 0.1951 - accuracy: 0.9622 - val_loss: 0.6386 - val_accuracy: 0.7943\n",
            "Epoch 59/75\n",
            "33/33 [==============================] - 2s 48ms/step - loss: 0.1717 - accuracy: 0.9699 - val_loss: 0.6258 - val_accuracy: 0.7943\n",
            "Epoch 60/75\n",
            "33/33 [==============================] - 2s 50ms/step - loss: 0.1801 - accuracy: 0.9612 - val_loss: 0.6489 - val_accuracy: 0.7872\n",
            "Epoch 61/75\n",
            "33/33 [==============================] - 2s 50ms/step - loss: 0.2077 - accuracy: 0.9467 - val_loss: 0.6305 - val_accuracy: 0.7943\n",
            "Epoch 62/75\n",
            "33/33 [==============================] - 2s 48ms/step - loss: 0.1882 - accuracy: 0.9544 - val_loss: 0.6456 - val_accuracy: 0.7872\n",
            "Epoch 63/75\n",
            "33/33 [==============================] - 2s 55ms/step - loss: 0.1811 - accuracy: 0.9651 - val_loss: 0.6733 - val_accuracy: 0.7801\n",
            "Epoch 64/75\n",
            "33/33 [==============================] - 2s 58ms/step - loss: 0.1925 - accuracy: 0.9573 - val_loss: 0.6640 - val_accuracy: 0.7660\n",
            "Epoch 65/75\n",
            "33/33 [==============================] - 2s 53ms/step - loss: 0.1907 - accuracy: 0.9573 - val_loss: 0.6393 - val_accuracy: 0.7872\n",
            "Epoch 66/75\n",
            "33/33 [==============================] - 2s 51ms/step - loss: 0.1842 - accuracy: 0.9651 - val_loss: 0.6443 - val_accuracy: 0.7872\n",
            "Epoch 67/75\n",
            "33/33 [==============================] - 2s 48ms/step - loss: 0.1824 - accuracy: 0.9622 - val_loss: 0.6634 - val_accuracy: 0.7872\n",
            "Epoch 68/75\n",
            "33/33 [==============================] - 2s 50ms/step - loss: 0.1891 - accuracy: 0.9631 - val_loss: 0.6417 - val_accuracy: 0.7872\n",
            "Epoch 69/75\n",
            "33/33 [==============================] - 2s 48ms/step - loss: 0.1757 - accuracy: 0.9690 - val_loss: 0.6257 - val_accuracy: 0.7872\n",
            "Epoch 70/75\n",
            "33/33 [==============================] - 2s 51ms/step - loss: 0.1822 - accuracy: 0.9631 - val_loss: 0.6252 - val_accuracy: 0.7943\n",
            "Epoch 71/75\n",
            "33/33 [==============================] - 2s 51ms/step - loss: 0.1941 - accuracy: 0.9564 - val_loss: 0.6312 - val_accuracy: 0.7943\n",
            "Epoch 72/75\n",
            "33/33 [==============================] - 2s 55ms/step - loss: 0.1955 - accuracy: 0.9593 - val_loss: 0.6424 - val_accuracy: 0.7801\n",
            "Epoch 73/75\n",
            "33/33 [==============================] - 2s 50ms/step - loss: 0.1807 - accuracy: 0.9641 - val_loss: 0.6510 - val_accuracy: 0.7872\n",
            "Epoch 74/75\n",
            "33/33 [==============================] - 2s 47ms/step - loss: 0.2052 - accuracy: 0.9476 - val_loss: 0.6483 - val_accuracy: 0.7801\n",
            "Epoch 75/75\n",
            "33/33 [==============================] - 2s 48ms/step - loss: 0.1756 - accuracy: 0.9680 - val_loss: 0.6358 - val_accuracy: 0.7801\n"
          ]
        }
      ],
      "source": [
        "history = model.fit(X_train, y_train, batch_size = 32, epochs = 75, validation_data=(X_val, y_val))"
      ]
    },
    {
      "cell_type": "code",
      "execution_count": null,
      "metadata": {
        "id": "FFga1drmsugm",
        "colab": {
          "base_uri": "https://localhost:8080/"
        },
        "outputId": "1e234e75-6fb4-4b7e-86dd-d11b1bfcbf87"
      },
      "outputs": [
        {
          "output_type": "stream",
          "name": "stdout",
          "text": [
            "2/2 [==============================] - 0s 419ms/step - loss: 0.5242 - accuracy: 0.8000\n"
          ]
        },
        {
          "output_type": "execute_result",
          "data": {
            "text/plain": [
              "[0.5242326259613037, 0.800000011920929]"
            ]
          },
          "metadata": {},
          "execution_count": 24
        }
      ],
      "source": [
        "model.evaluate(X_test, y_test, batch_size = 32)"
      ]
    },
    {
      "cell_type": "code",
      "execution_count": null,
      "metadata": {
        "id": "62Z50EzF7G1S",
        "colab": {
          "base_uri": "https://localhost:8080/"
        },
        "outputId": "7259581a-70de-4161-d387-682c75dcbed5"
      },
      "outputs": [
        {
          "output_type": "stream",
          "name": "stdout",
          "text": [
            "33/33 [==============================] - 1s 25ms/step - loss: 0.1225 - accuracy: 0.9855\n"
          ]
        },
        {
          "output_type": "execute_result",
          "data": {
            "text/plain": [
              "[0.12246875464916229, 0.9854510426521301]"
            ]
          },
          "metadata": {},
          "execution_count": 25
        }
      ],
      "source": [
        "model.evaluate(X_train, y_train, batch_size = 32)"
      ]
    },
    {
      "cell_type": "code",
      "execution_count": null,
      "metadata": {
        "id": "X45sKPz67GUE",
        "colab": {
          "base_uri": "https://localhost:8080/"
        },
        "outputId": "3901ef9c-e3ac-4fdc-e511-c44f10eec774"
      },
      "outputs": [
        {
          "output_type": "stream",
          "name": "stdout",
          "text": [
            "5/5 [==============================] - 0s 15ms/step - loss: 0.6358 - accuracy: 0.7801\n"
          ]
        },
        {
          "output_type": "execute_result",
          "data": {
            "text/plain": [
              "[0.6357517838478088, 0.7801418304443359]"
            ]
          },
          "metadata": {},
          "execution_count": 26
        }
      ],
      "source": [
        "model.evaluate(X_val, y_val, batch_size = 32)"
      ]
    },
    {
      "cell_type": "code",
      "execution_count": null,
      "metadata": {
        "id": "u2H5T5SJjkrK",
        "colab": {
          "base_uri": "https://localhost:8080/",
          "height": 472
        },
        "outputId": "58b04263-704a-44a5-ce21-fbbd6d4445d3"
      },
      "outputs": [
        {
          "output_type": "display_data",
          "data": {
            "text/plain": [
              "<Figure size 640x480 with 1 Axes>"
            ],
            "image/png": "[encoded data removed]"
          },
          "metadata": {}
        }
      ],
      "source": [
        "from matplotlib import pyplot as plt\n",
        "plt.plot(history.history['accuracy'])\n",
        "plt.plot(history.history['val_accuracy'])\n",
        "plt.title('model accuracy')\n",
        "plt.ylabel('accuracy')\n",
        "plt.xlabel('epoch')\n",
        "plt.legend(['train', 'val'], loc='upper left')\n",
        "plt.show()"
      ]
    },
    {
      "cell_type": "code",
      "source": [
        "y_pred = model.predict(X_test)"
      ],
      "metadata": {
        "id": "UFacSNUo6VV7",
        "colab": {
          "base_uri": "https://localhost:8080/"
        },
        "outputId": "b55d6f1f-19ee-4e17-b1f7-94923cc25a0e"
      },
      "execution_count": null,
      "outputs": [
        {
          "output_type": "stream",
          "name": "stdout",
          "text": [
            "2/2 [==============================] - 0s 14ms/step\n"
          ]
        }
      ]
    },
    {
      "cell_type": "code",
      "source": [
        "y_pred = np.where(y_pred == np.amax(y_pred, axis = 1, keepdims=True), 1, 0)"
      ],
      "metadata": {
        "id": "RjxDGfHb6Nhu"
      },
      "execution_count": null,
      "outputs": []
    },
    {
      "cell_type": "code",
      "execution_count": null,
      "metadata": {
        "id": "Si3KdmNEzCUn",
        "colab": {
          "base_uri": "https://localhost:8080/"
        },
        "outputId": "49462c4f-110c-4843-9ae9-72775a615948"
      },
      "outputs": [
        {
          "output_type": "stream",
          "name": "stdout",
          "text": [
            "              precision    recall  f1-score   support\n",
            "\n",
            "           0       0.89      0.80      0.84        10\n",
            "           1       0.91      1.00      0.95        10\n",
            "           2       0.75      0.60      0.67        10\n",
            "           3       0.57      0.80      0.67        10\n",
            "           4       1.00      0.80      0.89        10\n",
            "\n",
            "   micro avg       0.80      0.80      0.80        50\n",
            "   macro avg       0.82      0.80      0.80        50\n",
            "weighted avg       0.82      0.80      0.80        50\n",
            " samples avg       0.80      0.80      0.80        50\n",
            "\n"
          ]
        }
      ],
      "source": [
        "print(classification_report(y_test, y_pred))"
      ]
    },
    {
      "cell_type": "code",
      "source": [],
      "metadata": {
        "id": "h_zlwM8NGTF4"
      },
      "execution_count": null,
      "outputs": []
    }
  ],
  "metadata": {
    "accelerator": "GPU",
    "colab": {
      "provenance": []
    },
    "gpuClass": "standard",
    "kernelspec": {
      "display_name": "Python 3",
      "name": "python3"
    },
    "language_info": {
      "name": "python"
    }
  },
  "nbformat": 4,
  "nbformat_minor": 0
}